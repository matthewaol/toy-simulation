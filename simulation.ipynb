{
 "cells": [
  {
   "cell_type": "code",
   "execution_count": 2,
   "id": "4ae1944e",
   "metadata": {},
   "outputs": [],
   "source": [
    "import pylab as plt \n",
    "import numpy as np\n",
    "import scipy as sp\n",
    "\n",
    "from Bio.PDB.PDBParser import PDBParser\n",
    "\n",
    "from scipy.ndimage import binary_dilation\n",
    "from scipy.ndimage import gaussian_filter\n",
    "from simtbx.diffBragg.utils import detect_peaks\n",
    "# from IPython import embed;embed() <- can use this to make breakpoints "
   ]
  },
  {
   "cell_type": "code",
   "execution_count": 181,
   "id": "ec7773d3",
   "metadata": {},
   "outputs": [],
   "source": [
    "def get_coords_pdb(file_name, structure_id,get_xy=True):# Parses pdb file to get xy coordinates of atoms\n",
    "    print(\"Getting atom coordinates from molecule\")\n",
    "    parser = PDBParser(PERMISSIVE=1)\n",
    "    structure = parser.get_structure(structure_id,file_name)\n",
    "    \n",
    "    list_of_coords = [atom.get_coord() for atom in structure.get_atoms()]\n",
    "    \n",
    "    if get_xy is True: \n",
    "        list_of_coords = np.array(np.delete(list_of_coords, 2, axis=1))\n",
    "        \n",
    "    return np.array(list_of_coords)"
   ]
  },
  {
   "cell_type": "code",
   "execution_count": 4,
   "id": "5c3e07ea",
   "metadata": {},
   "outputs": [],
   "source": [
    "def create_q_vectors(image_size, step_size): # creates 2d array of q_vectors, can specify the step size between vectors\n",
    "    q_vectors = [] # step_size can also be seen as the resolution of the image !\n",
    "    \n",
    "    for x in np.arange(-image_size, image_size+.01, step_size): # can also use linspace instead of arange\n",
    "        for y in np.arange(-image_size, image_size+.01, step_size):  \n",
    "            q_vectors.append([x, y])\n",
    "    return np.array(q_vectors) \n",
    "\n",
    "def create_q_vectors_3d(image_size, step_size): # creates 2d array of q_vectors, can specify the step size between vectors\n",
    "    q_vectors = [] # step_size can also be seen as the resolution of the image !\n",
    "    \n",
    "    for x in np.arange(-image_size, image_size+.01, step_size): # can also use linspace instead of arange\n",
    "        for y in np.arange(-image_size, image_size+.01, step_size):  \n",
    "                for z in np.arange(-image_size, image_size+.01, step_size):\n",
    "                    q_vectors.append([x, y, z])\n",
    "    return np.array(q_vectors) "
   ]
  },
  {
   "cell_type": "code",
   "execution_count": 148,
   "id": "7a3ecffb",
   "metadata": {},
   "outputs": [],
   "source": [
    "def create_Tu_vectors(num_cells, cell_size=1): \n",
    "    Tu = []\n",
    "    \n",
    "    for x in range(num_cells):\n",
    "        for y in range(num_cells):\n",
    "            Tu.append([x * cell_size, y * cell_size])\n",
    "    return np.array(Tu)\n",
    "\n",
    "def create_Tu_vectors_3d(num_cells, cell_size=1): \n",
    "    Tu = []\n",
    "    \n",
    "    for x in range(num_cells): # Creates Tu vectors ranging from [0,0] to [Tu_size,Tu_size]\n",
    "        for y in range(num_cells):\n",
    "                for z in range(num_cells):\n",
    "                    Tu.append([x*cell_size,y*cell_size,z*cell_size])\n",
    "    return np.array(Tu)\n",
    "\n",
    "def determine_cell_size(atoms): # determines cell size based on the max value of distances between all atoms\n",
    "    return sp.spatial.distance.pdist(atoms).max()"
   ]
  },
  {
   "cell_type": "code",
   "execution_count": 6,
   "id": "849056e7",
   "metadata": {},
   "outputs": [],
   "source": [
    "def molecular_transform(Q, Atoms,f_j,theta): # takes in a single Q vector and a list of atoms, outputs a single A value\n",
    "    a = b = 0\n",
    "    \n",
    "    for atom in Atoms:\n",
    "        phase = plt.dot(Q,rotation_matrix(atom,theta)) # to rotate or not to rotate\n",
    "        #phase = plt.dot(Q,atom)\n",
    "        a+= plt.cos(phase) # summing real terms \n",
    "        b+= plt.sin(phase) # summing imaginary terms\n",
    "    # computing amplitude\n",
    "    \n",
    "    i_real, i_imag = a*f_j, b*f_j\n",
    "    return i_real + i_imag*1j\n",
    "\n",
    "def molecular_transform_no_loop(Q,Atoms,f_j,theta): # takes in a single Q vector and a list of atoms, outputs a single A value\n",
    "    a = b = 0\n",
    "    rotation_m = [[np.cos(theta), -np.sin(theta)],\n",
    "                  [np.sin(theta), np.cos(theta)]]\n",
    "    \n",
    "    rotated_u = np.dot(rotation_m,Atoms.T)\n",
    "    phase = np.dot(Q, rotated_u)\n",
    "    a = sum(np.cos(phase))\n",
    "    b = sum(np.sin(phase))\n",
    "    i_real, i_imag = a*f_j, b*f_j\n",
    "    return i_real + i_imag*1j\n",
    "\n",
    "def molecular_transform_no_loop_array(Qs,Atoms,f_j,theta): # takes in an array of Q instead of a single Q\n",
    "    a = b = 0\n",
    "    rotation_m = np.array([[np.cos(theta), -np.sin(theta)],\n",
    "                  [np.sin(theta), np.cos(theta)]])\n",
    "    \n",
    "    rotated_u = np.dot(rotation_m,Atoms.T)\n",
    "    phase = np.dot(Qs, rotated_u)\n",
    "    a = np.sum(np.cos(phase), axis = 1) # indicating axis = 1, to sum over the columns instead of rows\n",
    "    b = np.sum(np.sin(phase), axis = 1)\n",
    "    i_real, i_imag = a*f_j, b*f_j\n",
    "    return i_real + i_imag*1j\n",
    "\n",
    "def molecular_transform_no_loop_array_3d(Qs, Atoms, f_j,rotation_m): # Atoms & Qs will be 3d and theta will be a matrix\n",
    "    a = b = 0 \n",
    "    \n",
    "    rotated_u = np.dot(rotation_m, Atoms.T)\n",
    "    phase = np.dot(Qs, rotated_u)\n",
    "    \n",
    "    a = np.sum(np.cos(phase), axis = 1)\n",
    "    b = np.sum(np.sin(phase), axis = 1) \n",
    "    \n",
    "    i_real, i_imag = a*f_j, b*f_j\n",
    "    return i_real + i_imag*1j"
   ]
  },
  {
   "cell_type": "code",
   "execution_count": 7,
   "id": "8298cc8a",
   "metadata": {},
   "outputs": [],
   "source": [
    "def lattice_transform(Q, Tu,theta): # takes in a single Q vector and a list of Tu vectors, outputs a single A value\n",
    "    a = b = 0 \n",
    "    \n",
    "    for u in Tu:\n",
    "        # u is the vector representing the distance between the origin and the corner of a lattice unit\n",
    "        phase = plt.dot(Q,rotation_matrix(u,theta))\n",
    "        a+= plt.cos(phase)\n",
    "        b+= plt.sin(phase)\n",
    "    i_real, i_imag = a,b\n",
    "    return i_real + i_imag*1j \n",
    "\n",
    "def lattice_transform_no_loop(Q, Tu, theta): # takes in single Q vector and list of Tu vectors, outputs a single A value\n",
    "    rotation_m = [[np.cos(theta), -np.sin(theta)],\n",
    "                  [np.sin(theta), np.cos(theta)]]\n",
    "    \n",
    "    rotated_u = np.dot(rotation_m, Tu.T) # Applying rotation to array of Tu vectors\n",
    "    phase = np.dot(Q, rotated_u) # applying dot product to a Q vector and rotated Tu vectors\n",
    "    a = sum(np.cos(phase)) # cosine of phase\n",
    "    b = sum(np.sin(phase)) # sin of phase\n",
    "    i_real, i_imag = a, b\n",
    "    return i_real + i_imag * 1j \n",
    "\n",
    "def lattice_transform_no_loop_array(Qs, Tu, theta): # takes in an array of Q instead of a single Q\n",
    "    rotation_m = np.array([[np.cos(theta), -np.sin(theta)],\n",
    "                  [np.sin(theta), np.cos(theta)]])\n",
    "    \n",
    "    rotated_u = np.dot(rotation_m,Tu.T) \n",
    "    phase = np.dot(Qs, rotated_u)  \n",
    "    a = np.sum(np.cos(phase), axis = 1) # indicating axis = 1, to sum over the columns instead of rows\n",
    "    b = np.sum(np.sin(phase), axis = 1)\n",
    "\n",
    "    i_real, i_imag = a, b\n",
    "    return i_real + i_imag * 1j\n",
    "\n",
    "\n",
    "def lattice_transform_no_loop_array_3d(Qs, Tu, rotation_m): # 3d Qs & Tu, takes in rotation matrix    \n",
    "    rotated_u = np.dot(rotation_m,Tu.T) \n",
    "    phase = np.dot(Qs, rotated_u)  \n",
    "    a = np.sum(np.cos(phase), axis = 1) # indicating axis = 1, to sum over the columns instead of rows\n",
    "    b = np.sum(np.sin(phase), axis = 1)\n",
    "\n",
    "    i_real, i_imag = a, b\n",
    "    return i_real + i_imag * 1j"
   ]
  },
  {
   "cell_type": "code",
   "execution_count": 8,
   "id": "da490fae",
   "metadata": {},
   "outputs": [],
   "source": [
    "def get_I_values(Qs, Atoms, Tu, f_j, theta): # calculating the lattice and molecular transforms and returning intensities\n",
    "    \n",
    "    print(\"Computing intensities\")\n",
    "    \n",
    "    I_list = []\n",
    "    for Q in Qs: # for each Q value do these steps! \n",
    "        a_molecular = molecular_transform_no_loop(Q,Atoms,f_j,theta) # apply molecular transform! \n",
    "        a_lattice = lattice_transform_no_loop(Q,Tu,theta) # apply lattice transform!\n",
    "        a_total = a_molecular * a_lattice # multiply them together\n",
    "        final_I = a_total.real**2 + a_total.imag**2 # add the two complex numbers\n",
    "        I_list.append(final_I) # append that to list\n",
    "    \n",
    "    print(\"Finished intensities\")\n",
    "    \n",
    "    return np.array(I_list)\n",
    "\n",
    "def get_I_values_no_loop(Qs, Atoms, Tu, f_j, theta): \n",
    "    \n",
    "    print(\"Computing intensities\")\n",
    "    \n",
    "    a_molecular = molecular_transform_no_loop_array(Qs, Atoms, f_j, theta)\n",
    "    a_lattice = lattice_transform_no_loop_array(Qs, Tu, theta)\n",
    "    a_total = a_molecular * a_lattice\n",
    "    \n",
    "    print(\"Finished intensities\")\n",
    "    return a_total.real**2 + a_total.imag**2\n",
    "\n",
    "def get_I_values_no_loop_3d(Qs, Atoms, Tu, f_j, rotation_m): \n",
    "    \n",
    "    print(\"Computing intensities\")\n",
    "    \n",
    "    a_molecular = molecular_transform_no_loop_array_3d(Qs, Atoms, f_j, rotation_m)\n",
    "    a_lattice = lattice_transform_no_loop_array_3d(Qs, Tu, rotation_m)\n",
    "    a_total = a_molecular * a_lattice\n",
    "    \n",
    "    print(\"Finished intensities\")\n",
    "    return a_total.real**2 + a_total.imag**2"
   ]
  },
  {
   "cell_type": "code",
   "execution_count": 9,
   "id": "6312bdd3",
   "metadata": {},
   "outputs": [],
   "source": [
    "# # 3D sim\n",
    "\n",
    "# alpha = 0 * np.pi / 180 \n",
    "\n",
    "# rotat_mat = [[1,0,0],\n",
    "#             [0,np.cos(alpha),np.sin(alpha)],\n",
    "#             [0, -np.sin(alpha), np.cos(alpha)]]\n",
    "\n",
    "# Qs = create_q_vectors_3d(10,.2)\n",
    "# Tu = create_Tu_vectors_3d(4)\n",
    "\n",
    "# sample_atoms = get_xy_coords_pdb(\"4bs7.pdb\", \"temp\")\n",
    "\n",
    "# I_list = get_I_values_no_loop_3d(Qs, sample_atoms, Tu, 1, rotat_mat)\n",
    "\n",
    "# I_size = int(np.sqrt(len(I_list)))\n",
    "\n",
    "# # square_I_list = plt.reshape(I_list, (I_size,I_size))\n",
    "\n",
    "# I_size = int(round(len(I_list) ** (1/3))) # instead of sqrt, cube root\n",
    "# cube_I_list = np.reshape(I_list, (I_size, I_size, I_size)) # shape into a cube \n",
    "\n",
    "# z_axis = 6\n",
    "# square_I_list = cube_I_list[:,:,z_axis]\n",
    "# plt.imshow(square_I_list)"
   ]
  },
  {
   "cell_type": "code",
   "execution_count": 10,
   "id": "f72f5c33",
   "metadata": {},
   "outputs": [],
   "source": [
    "def add_background_exp(I_list, Qs, a): #add background based on exponential decay\n",
    "    print(\"Adding in exponential decay background\")\n",
    "    background_list = []\n",
    "    \n",
    "    for q in Qs: \n",
    "        x_comp, y_comp = q[0], q[1]\n",
    "        B = np.exp(-(x_comp**2 + y_comp**2)* a)\n",
    "        background_list.append(B)\n",
    "        \n",
    "    return np.array(background_list) * I_list"
   ]
  },
  {
   "cell_type": "code",
   "execution_count": 11,
   "id": "de810f86",
   "metadata": {},
   "outputs": [],
   "source": [
    "def add_background_offset(I_list,a): # adds constant offset to I_list\n",
    "    return I_list + a"
   ]
  },
  {
   "cell_type": "code",
   "execution_count": 12,
   "id": "c68ca49f",
   "metadata": {},
   "outputs": [],
   "source": [
    "def add_background_gaussian(I_list, mu, sigma): # adds gaussian background to I_list / increase sigma for more background\n",
    "    gaussian_background_list = np.random.default_rng().normal(mu,sigma,len(I_list))\n",
    "    return I_list + gaussian_background_list "
   ]
  },
  {
   "cell_type": "code",
   "execution_count": 13,
   "id": "99ec81be",
   "metadata": {},
   "outputs": [],
   "source": [
    "def add_background_cauchy(I_list): #doesnt work yet\n",
    "    cauchy_list = np.random.default_rng().standard_cauchy(len(I_list))\n",
    "    return cauchy_list + I_list"
   ]
  },
  {
   "cell_type": "code",
   "execution_count": 14,
   "id": "37661647",
   "metadata": {},
   "outputs": [],
   "source": [
    "def show_image(square_I_list): # produces image of the resulting array of I values\n",
    "    print(\"Showing Image\")\n",
    "    mean = list_of_I_values.mean()\n",
    "    std = list_of_I_values.std()\n",
    "    \n",
    "    vmin = mean - std\n",
    "    vmax = mean + std \n",
    "    \n",
    "    photo = plt.imshow(list_of_I_values, vmax = vmax, vmin = vmin)\n",
    "    plt.show()"
   ]
  },
  {
   "cell_type": "code",
   "execution_count": 91,
   "id": "a912aa16",
   "metadata": {},
   "outputs": [],
   "source": [
    "def add_gaussian_noise(I_list, mu, sigma): # returns the list of I's with gaussian noise multiplied into it \n",
    "    gaussian_array = np.random.default_rng().normal(mu, sigma, len(I_list)) \n",
    "    noisy_I_list = I_list * gaussian_array\n",
    "    return noisy_I_list "
   ]
  },
  {
   "cell_type": "code",
   "execution_count": 16,
   "id": "8d03f67b",
   "metadata": {},
   "outputs": [],
   "source": [
    "def add_poisson_noise(I_list,lam): # returns the list of I's with poisson noise multiplied into it \n",
    "    poisson_array = np.random.default_rng().poisson(lam, len(I_list))\n",
    "    noisy_I_list = I_list * poisson_array\n",
    "    return noisy_I_list"
   ]
  },
  {
   "cell_type": "code",
   "execution_count": 17,
   "id": "96baabb2",
   "metadata": {},
   "outputs": [],
   "source": [
    "def add_saltpepper_noise(I_list,noise_level): #returns the list of I's with salt+pepper scattered in it randomly\n",
    "    \n",
    "    rng = np.random.default_rng()\n",
    "    black_or_white = [0,255] # list containing color value for black or white \n",
    "    pixel_values = np.array(range((len(I_list)))) # list containing indices of I_list\n",
    "    \n",
    "    for i in range(noise_level): \n",
    "        rand_index = rng.choice(pixel_values,replace=False) #random generated number with the range of the I_list size \n",
    "        I_list[rand_index] = rng.choice(black_or_white)\n",
    "    return I_list"
   ]
  },
  {
   "cell_type": "code",
   "execution_count": 18,
   "id": "bc43c0ec",
   "metadata": {
    "scrolled": true
   },
   "outputs": [],
   "source": [
    "def count_spots(square_I_list, threshold_factor=None):\n",
    "    if threshold_factor is not None: \n",
    "        threshold = square_I_list > threshold_factor \n",
    "    else:\n",
    "        threshold = square_I_list \n",
    "        \n",
    "    labels, num_of_labels = sp.ndimage.label(threshold) # Label each index of intensity array based on our defined threshold\n",
    "    peaks = sp.ndimage.find_objects(labels) # gets tuples corresponding to the location of each peak\n",
    "    print(\"Number of spots: \" + str(num_of_labels)) \n",
    "    return num_of_labels, peaks "
   ]
  },
  {
   "cell_type": "code",
   "execution_count": 19,
   "id": "e34b5ab7",
   "metadata": {},
   "outputs": [],
   "source": [
    "def produce_image(pdb_file_name, Qs, a, degrees): \n",
    "    \n",
    "    f_j = 1\n",
    "    Tu_size = 15 \n",
    "    Tu = create_Tu_vectors(Tu_size)\n",
    "    \n",
    "    theta = degrees * np.pi / 180\n",
    "    molecule = get_coords_pdb(pdb_file_name, \"temporary_id\")\n",
    "    \n",
    "    I_list = get_I_values_no_loop(Qs, molecule, Tu, f_j,theta)\n",
    "    I_list_background = add_background_exp(I_list,Qs,a)\n",
    "    \n",
    "    I_list_size = int(np.sqrt(len(I_list)))\n",
    "    \n",
    "    square_I_list = plt.reshape(I_list_background, (I_list_size,I_list_size) )\n",
    "    \n",
    "    return square_I_list"
   ]
  },
  {
   "cell_type": "code",
   "execution_count": 196,
   "id": "9ad13fa7",
   "metadata": {
    "scrolled": true
   },
   "outputs": [
    {
     "name": "stdout",
     "output_type": "stream",
     "text": [
      "Getting atom coordinates from molecule\n",
      "Computing intensities\n",
      "Finished intensities\n",
      "Number of spots: 1\n"
     ]
    }
   ],
   "source": [
    "image_size = 40 # Parameter - Image Size (for now = 40) \n",
    "image_resolution = .2 # Parameter - Step size of image (for now = .5) / went from .5 to .2 to reduce distortion from rotation\n",
    "\n",
    "Qs = create_q_vectors(image_size, image_resolution)\n",
    "\n",
    "Qs_size = int(np.sqrt(len(Qs))) # this gives us the size of the image! eg. 3 -> 3x3 image\n",
    "\n",
    "triangle = plt.array([[1,1.5],[1.5,0],[0,1]]) # Parameter - Atoms\n",
    "molecule = get_xy_coords_pdb(\"4bs7.pdb\", \"4bs7\")\n",
    "\n",
    "f_j = 1\n",
    "\n",
    "num_cells = 10  # Parameter - num of cells and size of cells in lattice\n",
    "cell_size = determine_cell_size(molecule)\n",
    "\n",
    "Tu = create_Tu_vectors(num_cells,cell_size)\n",
    "\n",
    "degrees = 0\n",
    "theta = degrees * np.pi / 180 # Parameter - theta degrees (rad) to rotate vectors\n",
    "\n",
    "a = .004 # Parameter - value for the background, decent results are between .001 to .009\n",
    "\n",
    "I_list = get_I_values_no_loop(Qs, molecule, Tu, f_j,theta) # Computing intensity values\n",
    "\n",
    "# I_list = add_background_exp(I_list, Qs, a)\n",
    "\n",
    "square_I_list = plt.reshape(I_list, (Qs_size,Qs_size)) # reshaping list into a square \n",
    "\n",
    "spot_count = count_spots(square_I_list)"
   ]
  },
  {
   "cell_type": "code",
   "execution_count": 211,
   "id": "3c419047",
   "metadata": {
    "scrolled": true
   },
   "outputs": [
    {
     "name": "stdout",
     "output_type": "stream",
     "text": [
      "Showing Image\n"
     ]
    }
   ],
   "source": [
    "%matplotlib tk\n",
    "show_image(square_I_list)\n",
    "#plt.imshow(square_I_list,vmax = 1e7)\n"
   ]
  },
  {
   "cell_type": "code",
   "execution_count": 60,
   "id": "13fab277",
   "metadata": {},
   "outputs": [
    {
     "name": "stdout",
     "output_type": "stream",
     "text": [
      "Number of spots: 49\n"
     ]
    },
    {
     "data": {
      "text/plain": [
       "<matplotlib.image.AxesImage at 0x7f1efa39b100>"
      ]
     },
     "execution_count": 60,
     "metadata": {},
     "output_type": "execute_result"
    }
   ],
   "source": [
    "%matplotlib tk\n",
    "plt.imshow(gaussian_filter(square_I_list,3),vmax=1e6) \n",
    "a = detect_peaks(gaussian_filter(square_I_list, 3),threshold = 1e3)\n",
    "count_spots(a)\n",
    "plt.imshow(a)"
   ]
  },
  {
   "cell_type": "code",
   "execution_count": 61,
   "id": "7826b2b8",
   "metadata": {},
   "outputs": [
    {
     "name": "stdout",
     "output_type": "stream",
     "text": [
      "Number of spots: 43\n"
     ]
    }
   ],
   "source": [
    "def filter_image(square_I_list, sigma, threshold, iterations): # preparing image for spot counting\n",
    "    gauss_image = gaussian_filter(square_I_list,sigma) # putting gaussian filter on\n",
    "    binary_image = detect_peaks(gauss_image,threshold)# converting into binary image\n",
    "    #dilated_image = binary_dilation(binary_image, iterations) # englargening peaks \n",
    "    return binary_image \n",
    "\n",
    "filtered_image = filter_image(square_I_list, 1, np.mean(square_I_list)*5,7)\n",
    "plt.imshow(filtered_image)\n",
    "spots = count_spots(filtered_image)"
   ]
  },
  {
   "cell_type": "code",
   "execution_count": 62,
   "id": "12fc9c23",
   "metadata": {},
   "outputs": [
    {
     "name": "stdout",
     "output_type": "stream",
     "text": [
      "Number of spots: 29\n",
      "806.1893698051075\n",
      "1848794.7690736963\n"
     ]
    }
   ],
   "source": [
    "a = detect_peaks(gaussian_filter(square_I_list, 1),threshold = np.mean(square_I_list) * 10)\n",
    "\n",
    "# plt.imshow(a)\n",
    "plt.imshow(binary_dilation(a, iterations=5))\n",
    "count_spots(a)\n",
    "\n",
    "print(np.median(square_I_list))\n",
    "print(np.mean(square_I_list))"
   ]
  },
  {
   "cell_type": "code",
   "execution_count": 63,
   "id": "c6e51a4f",
   "metadata": {},
   "outputs": [
    {
     "name": "stdout",
     "output_type": "stream",
     "text": [
      "Adding in exponential decay background\n",
      "Showing Image\n",
      "Adding in exponential decay background\n",
      "Showing Image\n",
      "Adding in exponential decay background\n",
      "Showing Image\n",
      "Adding in exponential decay background\n",
      "Showing Image\n",
      "Adding in exponential decay background\n",
      "Showing Image\n",
      "Adding in exponential decay background\n",
      "Showing Image\n",
      "Adding in exponential decay background\n",
      "Showing Image\n",
      "Adding in exponential decay background\n",
      "Showing Image\n",
      "Adding in exponential decay background\n",
      "Showing Image\n",
      "Adding in exponential decay background\n",
      "Showing Image\n",
      "Adding in exponential decay background\n",
      "Showing Image\n",
      "Adding in exponential decay background\n",
      "Showing Image\n",
      "Adding in exponential decay background\n",
      "Showing Image\n",
      "Adding in exponential decay background\n",
      "Showing Image\n",
      "Adding in exponential decay background\n",
      "Showing Image\n",
      "Adding in exponential decay background\n",
      "Showing Image\n",
      "Adding in exponential decay background\n",
      "Showing Image\n",
      "Adding in exponential decay background\n",
      "Showing Image\n",
      "Adding in exponential decay background\n",
      "Showing Image\n",
      "Adding in exponential decay background\n",
      "Showing Image\n",
      "Adding in exponential decay background\n",
      "Showing Image\n",
      "Adding in exponential decay background\n",
      "Showing Image\n",
      "Adding in exponential decay background\n",
      "Showing Image\n",
      "Adding in exponential decay background\n",
      "Showing Image\n",
      "Adding in exponential decay background\n",
      "Showing Image\n",
      "Adding in exponential decay background\n",
      "Showing Image\n",
      "Adding in exponential decay background\n",
      "Showing Image\n",
      "Adding in exponential decay background\n",
      "Showing Image\n",
      "Adding in exponential decay background\n",
      "Showing Image\n",
      "Adding in exponential decay background\n",
      "Showing Image\n",
      "Adding in exponential decay background\n",
      "Showing Image\n",
      "Adding in exponential decay background\n",
      "Showing Image\n",
      "Adding in exponential decay background\n",
      "Showing Image\n",
      "Adding in exponential decay background\n",
      "Showing Image\n",
      "Adding in exponential decay background\n",
      "Showing Image\n",
      "Adding in exponential decay background\n",
      "Showing Image\n",
      "Adding in exponential decay background\n",
      "Showing Image\n",
      "Adding in exponential decay background\n",
      "Showing Image\n",
      "Adding in exponential decay background\n",
      "Showing Image\n",
      "Adding in exponential decay background\n",
      "Showing Image\n",
      "Adding in exponential decay background\n",
      "Showing Image\n",
      "Adding in exponential decay background\n",
      "Showing Image\n",
      "Adding in exponential decay background\n",
      "Showing Image\n",
      "Adding in exponential decay background\n",
      "Showing Image\n",
      "Adding in exponential decay background\n",
      "Showing Image\n",
      "Adding in exponential decay background\n",
      "Showing Image\n",
      "Adding in exponential decay background\n",
      "Showing Image\n",
      "Adding in exponential decay background\n",
      "Showing Image\n",
      "Adding in exponential decay background\n",
      "Showing Image\n",
      "Adding in exponential decay background\n",
      "Showing Image\n",
      "Adding in exponential decay background\n",
      "Showing Image\n",
      "Adding in exponential decay background\n",
      "Showing Image\n",
      "Adding in exponential decay background\n",
      "Showing Image\n",
      "Adding in exponential decay background\n",
      "Showing Image\n",
      "Adding in exponential decay background\n",
      "Showing Image\n",
      "Adding in exponential decay background\n",
      "Showing Image\n",
      "Adding in exponential decay background\n",
      "Showing Image\n",
      "Adding in exponential decay background\n",
      "Showing Image\n",
      "Adding in exponential decay background\n",
      "Showing Image\n",
      "Adding in exponential decay background\n",
      "Showing Image\n"
     ]
    }
   ],
   "source": [
    "# Background movie! going from a = 0 to 0.06 in steps of .001\n",
    "for i in np.arange(0,.06,.001):\n",
    "    a = i \n",
    "    I_background_list = add_background_exp(I_list,Qs,a)\n",
    "    square_I_list = plt.reshape(I_background_list, (Qs_size,Qs_size))\n",
    "    show_image(square_I_list)"
   ]
  },
  {
   "cell_type": "code",
   "execution_count": null,
   "id": "5087f499",
   "metadata": {},
   "outputs": [],
   "source": [
    "# Rotation movie!  going from 0 to 90 degrees in steps of 10 degrees\n",
    "for i in np.arange(10): \n",
    "    degrees = 10 * i * np.pi / 180\n",
    "    img = get_I_values(Qs,molecule,Tu,1,degrees)\n",
    "    square_I_list = plt.reshape(img, (Qs_size,Qs_size)) \n",
    "    plt.imshow(square_I_list, vmax = I_list.mean() + I_list.std(), vmin = I_list.mean() - I_list.std())\n",
    "    plt.draw\n",
    "    plt.pause(.5)"
   ]
  },
  {
   "cell_type": "code",
   "execution_count": null,
   "id": "06fe5c58",
   "metadata": {},
   "outputs": [],
   "source": [
    "#Trying to add noise : have gaussian, poisson, saltpepper so far\n",
    "mu, sigma = 0, .1 # where mu = mean, and sigma = standard deviation (sigma !< 0)\n",
    "#gaussian_I_list = add_gaussian_noise(I_list,mu,sigma)\n",
    "\n",
    "lam = 1 # where lam = average occurences of event within given timeframe\n",
    "#poisson_I_list = add_poisson_noise(I_list,lam) \n",
    "\n",
    "noise_intensity = 6000 # = num of iterations of a random pixel getting replaced\n",
    "#saltpepper_I_list = add_saltpepper_noise(I_list, noise_intensity) # for some reason this keeps applying to the og list\n"
   ]
  },
  {
   "cell_type": "code",
   "execution_count": null,
   "id": "315f79f3",
   "metadata": {
    "scrolled": true
   },
   "outputs": [],
   "source": [
    "# print(\"Size of image is \" + str(Qs_size) + \" by \" + str(Qs_size))\n",
    "# print(\"Length of Qs is: \" + str(Qs_len))\n",
    "# print(\"Gaussian Noise: \" + \"mu = \" + str(mu) + \" & sigma = \" + str(sigma))\n",
    "# print(\"Poisson Noise: \" + \"lam = \" + str(lam))\n",
    "# print(\"Salt and Pepper Noise: \" + \"Noise intensity = \" + str(noise_intensity))"
   ]
  },
  {
   "cell_type": "code",
   "execution_count": null,
   "id": "f4f27098",
   "metadata": {},
   "outputs": [],
   "source": []
  }
 ],
 "metadata": {
  "kernelspec": {
   "display_name": "Python 3 (ipykernel)",
   "language": "python",
   "name": "python3"
  },
  "language_info": {
   "codemirror_mode": {
    "name": "ipython",
    "version": 3
   },
   "file_extension": ".py",
   "mimetype": "text/x-python",
   "name": "python",
   "nbconvert_exporter": "python",
   "pygments_lexer": "ipython3",
   "version": "3.10.12"
  }
 },
 "nbformat": 4,
 "nbformat_minor": 5
}
